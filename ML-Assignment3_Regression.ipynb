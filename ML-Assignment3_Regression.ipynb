{
 "cells": [
  {
   "cell_type": "markdown",
   "id": "6ce60135-17ef-4e99-aa24-e3785b3b66ca",
   "metadata": {},
   "source": [
    "## ML-ASSIGNMENT ON REGRESSION"
   ]
  },
  {
   "cell_type": "markdown",
   "id": "695397c5-ca30-4be3-baed-44e7cee687f6",
   "metadata": {},
   "source": [
    "# 1. Objective\n",
    " The objective is to evaluate the understanding of regression techniques in supervised learning by applying them to a real-world dataset."
   ]
  },
  {
   "cell_type": "markdown",
   "id": "9c226cc6-1a8c-4d62-be1f-d429419d549c",
   "metadata": {},
   "source": [
    "# 2. Dataset:\n",
    "The California Housing dataset available in the sklearn library is used. This dataset contains information about various features of houses in California and their respective median prices.\n"
   ]
  },
  {
   "cell_type": "markdown",
   "id": "c8537bf2-b59e-4bbd-950b-989b42a76ede",
   "metadata": {},
   "source": [
    "# 3.Explore and Processing Data\n",
    ".Understanding the Data:Perform initial analysis to understand the data(types,structure,missing values).\n",
    ".Clean the Data:Handle missing values,remove duplicates,correct errors etc.\n",
    ".Transform the Data: Feature engineering,scaling,encoding categorical variables etc.\n",
    ".Visualize the Data:Use visualizations to gain insights and understand data distributions and relationships."
   ]
  },
  {
   "cell_type": "markdown",
   "id": "2fd100b5-57a8-49b0-8404-1a2535b85aec",
   "metadata": {},
   "source": [
    "# 4.Modeling\n",
    ".Select the Model: Choose the appropriate modeling techniques(eg:regression,classification,clustering).\n",
    ".Train the Model: Split the Data into training and test sets and train the model on the training set.\n",
    ".Evaluate the Model: Use metrics to evaluate model performance on the test set."
   ]
  },
  {
   "cell_type": "markdown",
   "id": "038dfc62-22ae-422f-a6ec-f4651ae40f84",
   "metadata": {},
   "source": [
    "## California Housing Dataset"
   ]
  },
  {
   "cell_type": "markdown",
   "id": "1cf2c4d0-0200-4cb3-8c15-a9492ee8993f",
   "metadata": {},
   "source": [
    "# Description\n",
    "Data Set Characteristics:\r",
    "\r\n",
    "Number of Instance:\r\n",
    "24060\r\n",
    "\r\n",
    "Number of Attribtes:\r\n",
    "8 numeric, predictive attri.d the \n",
    "The target variable is the median house value for California districts, expressed in hundreds of thousands of dollars ($100,000).trget\r\n",
    "\r\n",
    "Attribute Infor:\n",
    "ation-:\r\n",
    "MedInc median income in blogroup\r",
    "-\n",
    "\r\n",
    "HouseAge median house age in pck grou-p\r\n",
    "\r\n",
    "AveRooms average number of roomspr househo-ld\r\n",
    "\r\n",
    "AveBedrms average number of bedromsper househ-old\r\n",
    "\r\n",
    "Populationblock roup pop-ulation\r\n",
    "\r\n",
    "AveOccup average umber ofhousehol-d members\r\n",
    "\r",
    "Latitude lock grou-p latitude\r\n",
    "\r\n",
    "Longitude block gng values:Noneroup longituneng Attribute Values:\r\n",
    "None"
   ]
  },
  {
   "cell_type": "markdown",
   "id": "702ab013-9f1b-481f-873a-69abf60bb204",
   "metadata": {},
   "source": [
    "# Importing All Necessory Libraries\n"
   ]
  },
  {
   "cell_type": "code",
   "execution_count": 1,
   "id": "0b522273-59c0-4b76-80f3-c5d76fab91a1",
   "metadata": {},
   "outputs": [],
   "source": [
    "from sklearn.datasets import fetch_california_housing\n",
    "import pandas as pd\n",
    "from sklearn.model_selection import train_test_split\n",
    "from sklearn.preprocessing import StandardScaler"
   ]
  },
  {
   "cell_type": "code",
   "execution_count": 9,
   "id": "83fe008d-599f-4df0-a509-960999095d9b",
   "metadata": {},
   "outputs": [],
   "source": [
    "import warnings\n",
    "import sys\n",
    "if not sys.warnoptions:\n",
    "    warnings.simplefilter(\"ignore\")"
   ]
  },
  {
   "cell_type": "code",
   "execution_count": 3,
   "id": "917d0208-b096-40ca-b3a1-f48cc96a3e0f",
   "metadata": {},
   "outputs": [],
   "source": [
    "# Load the California Housing dataset\n",
    "cal_housing = fetch_california_housing()\n"
   ]
  },
  {
   "cell_type": "code",
   "execution_count": 5,
   "id": "e776fe80-1005-4e88-a4f6-d6a7bdd19d1c",
   "metadata": {},
   "outputs": [
    {
     "data": {
      "text/html": [
       "<div>\n",
       "<style scoped>\n",
       "    .dataframe tbody tr th:only-of-type {\n",
       "        vertical-align: middle;\n",
       "    }\n",
       "\n",
       "    .dataframe tbody tr th {\n",
       "        vertical-align: top;\n",
       "    }\n",
       "\n",
       "    .dataframe thead th {\n",
       "        text-align: right;\n",
       "    }\n",
       "</style>\n",
       "<table border=\"1\" class=\"dataframe\">\n",
       "  <thead>\n",
       "    <tr style=\"text-align: right;\">\n",
       "      <th></th>\n",
       "      <th>MedInc</th>\n",
       "      <th>HouseAge</th>\n",
       "      <th>AveRooms</th>\n",
       "      <th>AveBedrms</th>\n",
       "      <th>Population</th>\n",
       "      <th>AveOccup</th>\n",
       "      <th>Latitude</th>\n",
       "      <th>Longitude</th>\n",
       "      <th>target</th>\n",
       "    </tr>\n",
       "  </thead>\n",
       "  <tbody>\n",
       "    <tr>\n",
       "      <th>0</th>\n",
       "      <td>8.3252</td>\n",
       "      <td>41.0</td>\n",
       "      <td>6.984127</td>\n",
       "      <td>1.023810</td>\n",
       "      <td>322.0</td>\n",
       "      <td>2.555556</td>\n",
       "      <td>37.88</td>\n",
       "      <td>-122.23</td>\n",
       "      <td>4.526</td>\n",
       "    </tr>\n",
       "    <tr>\n",
       "      <th>1</th>\n",
       "      <td>8.3014</td>\n",
       "      <td>21.0</td>\n",
       "      <td>6.238137</td>\n",
       "      <td>0.971880</td>\n",
       "      <td>2401.0</td>\n",
       "      <td>2.109842</td>\n",
       "      <td>37.86</td>\n",
       "      <td>-122.22</td>\n",
       "      <td>3.585</td>\n",
       "    </tr>\n",
       "    <tr>\n",
       "      <th>2</th>\n",
       "      <td>7.2574</td>\n",
       "      <td>52.0</td>\n",
       "      <td>8.288136</td>\n",
       "      <td>1.073446</td>\n",
       "      <td>496.0</td>\n",
       "      <td>2.802260</td>\n",
       "      <td>37.85</td>\n",
       "      <td>-122.24</td>\n",
       "      <td>3.521</td>\n",
       "    </tr>\n",
       "    <tr>\n",
       "      <th>3</th>\n",
       "      <td>5.6431</td>\n",
       "      <td>52.0</td>\n",
       "      <td>5.817352</td>\n",
       "      <td>1.073059</td>\n",
       "      <td>558.0</td>\n",
       "      <td>2.547945</td>\n",
       "      <td>37.85</td>\n",
       "      <td>-122.25</td>\n",
       "      <td>3.413</td>\n",
       "    </tr>\n",
       "    <tr>\n",
       "      <th>4</th>\n",
       "      <td>3.8462</td>\n",
       "      <td>52.0</td>\n",
       "      <td>6.281853</td>\n",
       "      <td>1.081081</td>\n",
       "      <td>565.0</td>\n",
       "      <td>2.181467</td>\n",
       "      <td>37.85</td>\n",
       "      <td>-122.25</td>\n",
       "      <td>3.422</td>\n",
       "    </tr>\n",
       "    <tr>\n",
       "      <th>...</th>\n",
       "      <td>...</td>\n",
       "      <td>...</td>\n",
       "      <td>...</td>\n",
       "      <td>...</td>\n",
       "      <td>...</td>\n",
       "      <td>...</td>\n",
       "      <td>...</td>\n",
       "      <td>...</td>\n",
       "      <td>...</td>\n",
       "    </tr>\n",
       "    <tr>\n",
       "      <th>20635</th>\n",
       "      <td>1.5603</td>\n",
       "      <td>25.0</td>\n",
       "      <td>5.045455</td>\n",
       "      <td>1.133333</td>\n",
       "      <td>845.0</td>\n",
       "      <td>2.560606</td>\n",
       "      <td>39.48</td>\n",
       "      <td>-121.09</td>\n",
       "      <td>0.781</td>\n",
       "    </tr>\n",
       "    <tr>\n",
       "      <th>20636</th>\n",
       "      <td>2.5568</td>\n",
       "      <td>18.0</td>\n",
       "      <td>6.114035</td>\n",
       "      <td>1.315789</td>\n",
       "      <td>356.0</td>\n",
       "      <td>3.122807</td>\n",
       "      <td>39.49</td>\n",
       "      <td>-121.21</td>\n",
       "      <td>0.771</td>\n",
       "    </tr>\n",
       "    <tr>\n",
       "      <th>20637</th>\n",
       "      <td>1.7000</td>\n",
       "      <td>17.0</td>\n",
       "      <td>5.205543</td>\n",
       "      <td>1.120092</td>\n",
       "      <td>1007.0</td>\n",
       "      <td>2.325635</td>\n",
       "      <td>39.43</td>\n",
       "      <td>-121.22</td>\n",
       "      <td>0.923</td>\n",
       "    </tr>\n",
       "    <tr>\n",
       "      <th>20638</th>\n",
       "      <td>1.8672</td>\n",
       "      <td>18.0</td>\n",
       "      <td>5.329513</td>\n",
       "      <td>1.171920</td>\n",
       "      <td>741.0</td>\n",
       "      <td>2.123209</td>\n",
       "      <td>39.43</td>\n",
       "      <td>-121.32</td>\n",
       "      <td>0.847</td>\n",
       "    </tr>\n",
       "    <tr>\n",
       "      <th>20639</th>\n",
       "      <td>2.3886</td>\n",
       "      <td>16.0</td>\n",
       "      <td>5.254717</td>\n",
       "      <td>1.162264</td>\n",
       "      <td>1387.0</td>\n",
       "      <td>2.616981</td>\n",
       "      <td>39.37</td>\n",
       "      <td>-121.24</td>\n",
       "      <td>0.894</td>\n",
       "    </tr>\n",
       "  </tbody>\n",
       "</table>\n",
       "<p>20640 rows × 9 columns</p>\n",
       "</div>"
      ],
      "text/plain": [
       "       MedInc  HouseAge  AveRooms  AveBedrms  Population  AveOccup  Latitude  \\\n",
       "0      8.3252      41.0  6.984127   1.023810       322.0  2.555556     37.88   \n",
       "1      8.3014      21.0  6.238137   0.971880      2401.0  2.109842     37.86   \n",
       "2      7.2574      52.0  8.288136   1.073446       496.0  2.802260     37.85   \n",
       "3      5.6431      52.0  5.817352   1.073059       558.0  2.547945     37.85   \n",
       "4      3.8462      52.0  6.281853   1.081081       565.0  2.181467     37.85   \n",
       "...       ...       ...       ...        ...         ...       ...       ...   \n",
       "20635  1.5603      25.0  5.045455   1.133333       845.0  2.560606     39.48   \n",
       "20636  2.5568      18.0  6.114035   1.315789       356.0  3.122807     39.49   \n",
       "20637  1.7000      17.0  5.205543   1.120092      1007.0  2.325635     39.43   \n",
       "20638  1.8672      18.0  5.329513   1.171920       741.0  2.123209     39.43   \n",
       "20639  2.3886      16.0  5.254717   1.162264      1387.0  2.616981     39.37   \n",
       "\n",
       "       Longitude  target  \n",
       "0        -122.23   4.526  \n",
       "1        -122.22   3.585  \n",
       "2        -122.24   3.521  \n",
       "3        -122.25   3.413  \n",
       "4        -122.25   3.422  \n",
       "...          ...     ...  \n",
       "20635    -121.09   0.781  \n",
       "20636    -121.21   0.771  \n",
       "20637    -121.22   0.923  \n",
       "20638    -121.32   0.847  \n",
       "20639    -121.24   0.894  \n",
       "\n",
       "[20640 rows x 9 columns]"
      ]
     },
     "execution_count": 5,
     "metadata": {},
     "output_type": "execute_result"
    }
   ],
   "source": [
    "# Convert the dataset into a pandas DataFrame\n",
    "df = pd.DataFrame(cal_housing.data, columns=cal_housing.feature_names)\n",
    "df['target'] = cal_housing.target\n",
    "df"
   ]
  },
  {
   "cell_type": "code",
   "execution_count": 7,
   "id": "320d5d95-2976-4822-951a-37a1b2029393",
   "metadata": {},
   "outputs": [
    {
     "name": "stdout",
     "output_type": "stream",
     "text": [
      "   MedInc  HouseAge  AveRooms  AveBedrms  Population  AveOccup  Latitude  \\\n",
      "0  8.3252      41.0  6.984127   1.023810       322.0  2.555556     37.88   \n",
      "1  8.3014      21.0  6.238137   0.971880      2401.0  2.109842     37.86   \n",
      "2  7.2574      52.0  8.288136   1.073446       496.0  2.802260     37.85   \n",
      "3  5.6431      52.0  5.817352   1.073059       558.0  2.547945     37.85   \n",
      "4  3.8462      52.0  6.281853   1.081081       565.0  2.181467     37.85   \n",
      "\n",
      "   Longitude  target  \n",
      "0    -122.23   4.526  \n",
      "1    -122.22   3.585  \n",
      "2    -122.24   3.521  \n",
      "3    -122.25   3.413  \n",
      "4    -122.25   3.422  \n"
     ]
    }
   ],
   "source": [
    "# View the first few rows of the DataFrame\n",
    "print(df.head())"
   ]
  },
  {
   "cell_type": "code",
   "execution_count": 11,
   "id": "8f2ef77d-cbe7-469b-8e78-283eb6379f7e",
   "metadata": {},
   "outputs": [
    {
     "data": {
      "text/html": [
       "<div>\n",
       "<style scoped>\n",
       "    .dataframe tbody tr th:only-of-type {\n",
       "        vertical-align: middle;\n",
       "    }\n",
       "\n",
       "    .dataframe tbody tr th {\n",
       "        vertical-align: top;\n",
       "    }\n",
       "\n",
       "    .dataframe thead th {\n",
       "        text-align: right;\n",
       "    }\n",
       "</style>\n",
       "<table border=\"1\" class=\"dataframe\">\n",
       "  <thead>\n",
       "    <tr style=\"text-align: right;\">\n",
       "      <th></th>\n",
       "      <th>MedInc</th>\n",
       "      <th>HouseAge</th>\n",
       "      <th>AveRooms</th>\n",
       "      <th>AveBedrms</th>\n",
       "      <th>Population</th>\n",
       "      <th>AveOccup</th>\n",
       "      <th>Latitude</th>\n",
       "      <th>Longitude</th>\n",
       "      <th>target</th>\n",
       "    </tr>\n",
       "  </thead>\n",
       "  <tbody>\n",
       "    <tr>\n",
       "      <th>count</th>\n",
       "      <td>20640.000000</td>\n",
       "      <td>20640.000000</td>\n",
       "      <td>20640.000000</td>\n",
       "      <td>20640.000000</td>\n",
       "      <td>20640.000000</td>\n",
       "      <td>20640.000000</td>\n",
       "      <td>20640.000000</td>\n",
       "      <td>20640.000000</td>\n",
       "      <td>20640.000000</td>\n",
       "    </tr>\n",
       "    <tr>\n",
       "      <th>mean</th>\n",
       "      <td>3.870671</td>\n",
       "      <td>28.639486</td>\n",
       "      <td>5.429000</td>\n",
       "      <td>1.096675</td>\n",
       "      <td>1425.476744</td>\n",
       "      <td>3.070655</td>\n",
       "      <td>35.631861</td>\n",
       "      <td>-119.569704</td>\n",
       "      <td>2.068558</td>\n",
       "    </tr>\n",
       "    <tr>\n",
       "      <th>std</th>\n",
       "      <td>1.899822</td>\n",
       "      <td>12.585558</td>\n",
       "      <td>2.474173</td>\n",
       "      <td>0.473911</td>\n",
       "      <td>1132.462122</td>\n",
       "      <td>10.386050</td>\n",
       "      <td>2.135952</td>\n",
       "      <td>2.003532</td>\n",
       "      <td>1.153956</td>\n",
       "    </tr>\n",
       "    <tr>\n",
       "      <th>min</th>\n",
       "      <td>0.499900</td>\n",
       "      <td>1.000000</td>\n",
       "      <td>0.846154</td>\n",
       "      <td>0.333333</td>\n",
       "      <td>3.000000</td>\n",
       "      <td>0.692308</td>\n",
       "      <td>32.540000</td>\n",
       "      <td>-124.350000</td>\n",
       "      <td>0.149990</td>\n",
       "    </tr>\n",
       "    <tr>\n",
       "      <th>25%</th>\n",
       "      <td>2.563400</td>\n",
       "      <td>18.000000</td>\n",
       "      <td>4.440716</td>\n",
       "      <td>1.006079</td>\n",
       "      <td>787.000000</td>\n",
       "      <td>2.429741</td>\n",
       "      <td>33.930000</td>\n",
       "      <td>-121.800000</td>\n",
       "      <td>1.196000</td>\n",
       "    </tr>\n",
       "    <tr>\n",
       "      <th>50%</th>\n",
       "      <td>3.534800</td>\n",
       "      <td>29.000000</td>\n",
       "      <td>5.229129</td>\n",
       "      <td>1.048780</td>\n",
       "      <td>1166.000000</td>\n",
       "      <td>2.818116</td>\n",
       "      <td>34.260000</td>\n",
       "      <td>-118.490000</td>\n",
       "      <td>1.797000</td>\n",
       "    </tr>\n",
       "    <tr>\n",
       "      <th>75%</th>\n",
       "      <td>4.743250</td>\n",
       "      <td>37.000000</td>\n",
       "      <td>6.052381</td>\n",
       "      <td>1.099526</td>\n",
       "      <td>1725.000000</td>\n",
       "      <td>3.282261</td>\n",
       "      <td>37.710000</td>\n",
       "      <td>-118.010000</td>\n",
       "      <td>2.647250</td>\n",
       "    </tr>\n",
       "    <tr>\n",
       "      <th>max</th>\n",
       "      <td>15.000100</td>\n",
       "      <td>52.000000</td>\n",
       "      <td>141.909091</td>\n",
       "      <td>34.066667</td>\n",
       "      <td>35682.000000</td>\n",
       "      <td>1243.333333</td>\n",
       "      <td>41.950000</td>\n",
       "      <td>-114.310000</td>\n",
       "      <td>5.000010</td>\n",
       "    </tr>\n",
       "  </tbody>\n",
       "</table>\n",
       "</div>"
      ],
      "text/plain": [
       "             MedInc      HouseAge      AveRooms     AveBedrms    Population  \\\n",
       "count  20640.000000  20640.000000  20640.000000  20640.000000  20640.000000   \n",
       "mean       3.870671     28.639486      5.429000      1.096675   1425.476744   \n",
       "std        1.899822     12.585558      2.474173      0.473911   1132.462122   \n",
       "min        0.499900      1.000000      0.846154      0.333333      3.000000   \n",
       "25%        2.563400     18.000000      4.440716      1.006079    787.000000   \n",
       "50%        3.534800     29.000000      5.229129      1.048780   1166.000000   \n",
       "75%        4.743250     37.000000      6.052381      1.099526   1725.000000   \n",
       "max       15.000100     52.000000    141.909091     34.066667  35682.000000   \n",
       "\n",
       "           AveOccup      Latitude     Longitude        target  \n",
       "count  20640.000000  20640.000000  20640.000000  20640.000000  \n",
       "mean       3.070655     35.631861   -119.569704      2.068558  \n",
       "std       10.386050      2.135952      2.003532      1.153956  \n",
       "min        0.692308     32.540000   -124.350000      0.149990  \n",
       "25%        2.429741     33.930000   -121.800000      1.196000  \n",
       "50%        2.818116     34.260000   -118.490000      1.797000  \n",
       "75%        3.282261     37.710000   -118.010000      2.647250  \n",
       "max     1243.333333     41.950000   -114.310000      5.000010  "
      ]
     },
     "execution_count": 11,
     "metadata": {},
     "output_type": "execute_result"
    }
   ],
   "source": [
    "#Understanding the Data\n",
    "#statistical summary of the data set which gives the count, mean, standard deviation, minimum,\n",
    "#and quartiles for each numerical column. The dataset’s central tendencies and spread are briefly summarized.\n",
    "df.describe()"
   ]
  },
  {
   "cell_type": "code",
   "execution_count": 13,
   "id": "b9fa3637-db18-4cfd-86cd-2e852a53b8ab",
   "metadata": {},
   "outputs": [
    {
     "name": "stdout",
     "output_type": "stream",
     "text": [
      "<class 'pandas.core.frame.DataFrame'>\n",
      "RangeIndex: 20640 entries, 0 to 20639\n",
      "Data columns (total 9 columns):\n",
      " #   Column      Non-Null Count  Dtype  \n",
      "---  ------      --------------  -----  \n",
      " 0   MedInc      20640 non-null  float64\n",
      " 1   HouseAge    20640 non-null  float64\n",
      " 2   AveRooms    20640 non-null  float64\n",
      " 3   AveBedrms   20640 non-null  float64\n",
      " 4   Population  20640 non-null  float64\n",
      " 5   AveOccup    20640 non-null  float64\n",
      " 6   Latitude    20640 non-null  float64\n",
      " 7   Longitude   20640 non-null  float64\n",
      " 8   target      20640 non-null  float64\n",
      "dtypes: float64(9)\n",
      "memory usage: 1.4 MB\n"
     ]
    }
   ],
   "source": [
    "#facilitates comprehension of the data type and related information, such as the quantity of records in each column,\n",
    "#whether the data is null or not, the type of data, and the dataset’s memory usage.\n",
    "\n",
    "df.info()"
   ]
  },
  {
   "cell_type": "code",
   "execution_count": 17,
   "id": "9e195a0a-c18b-447d-9501-ebe0d85646b5",
   "metadata": {},
   "outputs": [
    {
     "data": {
      "text/plain": [
       "MedInc        0\n",
       "HouseAge      0\n",
       "AveRooms      0\n",
       "AveBedrms     0\n",
       "Population    0\n",
       "AveOccup      0\n",
       "Latitude      0\n",
       "Longitude     0\n",
       "target        0\n",
       "dtype: int64"
      ]
     },
     "execution_count": 17,
     "metadata": {},
     "output_type": "execute_result"
    }
   ],
   "source": [
    "# Check for missing values\n",
    "df.isnull().sum()"
   ]
  },
  {
   "cell_type": "code",
   "execution_count": 19,
   "id": "788b6a77-7392-481d-a271-4b3481e3c905",
   "metadata": {},
   "outputs": [
    {
     "data": {
      "text/plain": [
       "0"
      ]
     },
     "execution_count": 19,
     "metadata": {},
     "output_type": "execute_result"
    }
   ],
   "source": [
    "#check for duplicates\n",
    "df.duplicated().sum() "
   ]
  },
  {
   "cell_type": "markdown",
   "id": "653f0bc4-2721-45cc-be15-f7637b84d7d1",
   "metadata": {},
   "source": [
    "Missing Values-0\n",
    "Duplicates-0"
   ]
  },
  {
   "cell_type": "code",
   "execution_count": 21,
   "id": "0913c326-13d7-404e-a93b-7372b5bb76c6",
   "metadata": {},
   "outputs": [
    {
     "data": {
      "text/plain": [
       "(20640, 9)"
      ]
     },
     "execution_count": 21,
     "metadata": {},
     "output_type": "execute_result"
    }
   ],
   "source": [
    "df.shape"
   ]
  },
  {
   "cell_type": "code",
   "execution_count": 23,
   "id": "ab72f711-63c0-420f-9ee0-c569b50c0767",
   "metadata": {},
   "outputs": [],
   "source": [
    "# Perform feature scaling using StandardScaler\n",
    "scaler = StandardScaler()\n",
    "df_scaled = scaler.fit_transform(df.drop('target', axis=1))\n"
   ]
  },
  {
   "cell_type": "code",
   "execution_count": 25,
   "id": "eb02c0e9-726c-4988-9846-8c87d0fa6429",
   "metadata": {},
   "outputs": [],
   "source": [
    "# Convert the scaled data back into a pandas DataFrame\n",
    "df_scaled = pd.DataFrame(df_scaled, columns=df.drop('target', axis=1).columns)"
   ]
  },
  {
   "cell_type": "code",
   "execution_count": 27,
   "id": "b0a4b2a0-4eca-4543-890e-5505a9b37c87",
   "metadata": {},
   "outputs": [
    {
     "name": "stdout",
     "output_type": "stream",
     "text": [
      "Missing values count after scaling: MedInc        0\n",
      "HouseAge      0\n",
      "AveRooms      0\n",
      "AveBedrms     0\n",
      "Population    0\n",
      "AveOccup      0\n",
      "Latitude      0\n",
      "Longitude     0\n",
      "dtype: int64\n"
     ]
    }
   ],
   "source": [
    "# Check if there are any missing values after scaling\n",
    "print(\"Missing values count after scaling:\", df_scaled.isnull().sum())"
   ]
  },
  {
   "cell_type": "code",
   "execution_count": 29,
   "id": "ea2e4ad7-cf23-48ec-960c-50c16e52d58a",
   "metadata": {},
   "outputs": [],
   "source": [
    "# Merge the original target with the scaled data\n",
    "df_scaled['target'] = df['target']"
   ]
  },
  {
   "cell_type": "code",
   "execution_count": 31,
   "id": "3c093fb9-cf8b-4147-9a71-29153948014a",
   "metadata": {},
   "outputs": [
    {
     "name": "stdout",
     "output_type": "stream",
     "text": [
      "Preprocessed DataFrame shape: (20640, 9)\n"
     ]
    }
   ],
   "source": [
    "print(\"Preprocessed DataFrame shape:\", df_scaled.shape)"
   ]
  },
  {
   "cell_type": "markdown",
   "id": "01ad22e6-0e7f-42a7-bd26-be857dc3299e",
   "metadata": {},
   "source": [
    "# Explanation of preprocessing steps:\n",
    "# 1. Converting dataset to a pandas DataFrame:\n",
    "This step is necessary for easier data handling and manipulation.\n",
    "Pandas provides various tools for data manipulation, filtering, grouping, and more.\n",
    "# 2. Handling missing values: \n",
    "Although the California Housing dataset is from sklearn, which typically includes \n",
    "datasets without missing values, this step is crucial for real-world datasets where missing values often occur. The `isnull().sum()` method helps identify the number of missing values in each column.\n",
    "# 3. Performing feature scaling (standardization): \n",
    "The California Housing dataset includes features with different scales \n",
    "(e.g., age, population, median income). Standardization scales these features to have a mean of 0 and a standard deviation of 1.\n",
    "This step is necessary to prevent features with large ranges from dominating the model during training. \n",
    "Standardization also helps in reducing the effect of multicollinearity between features."
   ]
  },
  {
   "cell_type": "markdown",
   "id": "970519d6-ee6e-4a53-85e9-d204e9cf6f2d",
   "metadata": {},
   "source": [
    "## Justification:\n",
    "#Handling Missing Values: Missing values can significantly impact model performance, especially if they're not addressed appropriately. \n",
    "The presence of missing values can lead to incorrect predictions or biased models.\n",
    "#Feature Scaling: Standardization is a form of feature scaling where each feature is rescaled to have a mean of 0 and a standard deviation of 1.\n",
    "This is important because many machine learning algorithms are sensitive to the scale of the input variables. \n",
    "If some features have a much larger range than others, they might dominate the model during training, leading to inaccurate or biased results. Standardization ensures that all features are on the same scale, which can improve the performance of many machine learning algorithms."
   ]
  },
  {
   "cell_type": "markdown",
   "id": "877568ef-0822-4332-afa3-958bbaa03f37",
   "metadata": {},
   "source": [
    "# 1. Linear Regression\r\n",
    "How it works: Linear regression attempts to model the relationship between one or more independent variables (features) and a dependent variable (target) by fitting a linear equation to the observed data. In simple linear regression, the model predicts the target value as a linear function of the input features.\r\n",
    "\r\n",
    "Suitability for the dataset: It is suitable for the California Housing dataset if the relationship between the features (like median income, housing age, etc.) and the target (median house value) is approximately linear."
   ]
  },
  {
   "cell_type": "code",
   "execution_count": 33,
   "id": "6438dd23-4653-4497-bc92-2352dd165140",
   "metadata": {},
   "outputs": [],
   "source": [
    "from sklearn.linear_model import LinearRegression\n",
    "from sklearn.metrics import mean_squared_error, r2_score\n",
    "\n",
    "# Split data into training and test sets\n",
    "X = df_scaled.drop('target', axis=1)\n",
    "y = df_scaled['target']\n",
    "X_train, X_test, y_train, y_test = train_test_split(X, y, test_size=0.2, random_state=42)\n"
   ]
  },
  {
   "cell_type": "code",
   "execution_count": 35,
   "id": "3b3bba84-ddc5-46a7-83ba-e0854d504000",
   "metadata": {},
   "outputs": [
    {
     "data": {
      "text/html": [
       "<div>\n",
       "<style scoped>\n",
       "    .dataframe tbody tr th:only-of-type {\n",
       "        vertical-align: middle;\n",
       "    }\n",
       "\n",
       "    .dataframe tbody tr th {\n",
       "        vertical-align: top;\n",
       "    }\n",
       "\n",
       "    .dataframe thead th {\n",
       "        text-align: right;\n",
       "    }\n",
       "</style>\n",
       "<table border=\"1\" class=\"dataframe\">\n",
       "  <thead>\n",
       "    <tr style=\"text-align: right;\">\n",
       "      <th></th>\n",
       "      <th>MedInc</th>\n",
       "      <th>HouseAge</th>\n",
       "      <th>AveRooms</th>\n",
       "      <th>AveBedrms</th>\n",
       "      <th>Population</th>\n",
       "      <th>AveOccup</th>\n",
       "      <th>Latitude</th>\n",
       "      <th>Longitude</th>\n",
       "    </tr>\n",
       "  </thead>\n",
       "  <tbody>\n",
       "    <tr>\n",
       "      <th>14196</th>\n",
       "      <td>-0.321654</td>\n",
       "      <td>0.346478</td>\n",
       "      <td>-0.166259</td>\n",
       "      <td>-0.190451</td>\n",
       "      <td>0.772251</td>\n",
       "      <td>0.059808</td>\n",
       "      <td>-1.367976</td>\n",
       "      <td>1.267645</td>\n",
       "    </tr>\n",
       "    <tr>\n",
       "      <th>8267</th>\n",
       "      <td>-0.030620</td>\n",
       "      <td>1.617807</td>\n",
       "      <td>-0.386181</td>\n",
       "      <td>-0.117472</td>\n",
       "      <td>-0.098440</td>\n",
       "      <td>-0.128306</td>\n",
       "      <td>-0.871699</td>\n",
       "      <td>0.703627</td>\n",
       "    </tr>\n",
       "    <tr>\n",
       "      <th>17445</th>\n",
       "      <td>0.150349</td>\n",
       "      <td>-1.957806</td>\n",
       "      <td>0.087641</td>\n",
       "      <td>-0.235400</td>\n",
       "      <td>-0.450778</td>\n",
       "      <td>-0.033453</td>\n",
       "      <td>-0.455012</td>\n",
       "      <td>-0.454356</td>\n",
       "    </tr>\n",
       "    <tr>\n",
       "      <th>14265</th>\n",
       "      <td>-1.014947</td>\n",
       "      <td>0.584852</td>\n",
       "      <td>-0.576442</td>\n",
       "      <td>-0.132670</td>\n",
       "      <td>-0.006602</td>\n",
       "      <td>0.088940</td>\n",
       "      <td>-1.377340</td>\n",
       "      <td>1.227714</td>\n",
       "    </tr>\n",
       "    <tr>\n",
       "      <th>2271</th>\n",
       "      <td>-0.166583</td>\n",
       "      <td>1.141059</td>\n",
       "      <td>0.339282</td>\n",
       "      <td>0.079205</td>\n",
       "      <td>-0.486983</td>\n",
       "      <td>-0.074203</td>\n",
       "      <td>0.537543</td>\n",
       "      <td>-0.114948</td>\n",
       "    </tr>\n",
       "    <tr>\n",
       "      <th>...</th>\n",
       "      <td>...</td>\n",
       "      <td>...</td>\n",
       "      <td>...</td>\n",
       "      <td>...</td>\n",
       "      <td>...</td>\n",
       "      <td>...</td>\n",
       "      <td>...</td>\n",
       "      <td>...</td>\n",
       "    </tr>\n",
       "    <tr>\n",
       "      <th>11284</th>\n",
       "      <td>1.315592</td>\n",
       "      <td>0.505394</td>\n",
       "      <td>0.282943</td>\n",
       "      <td>-0.359587</td>\n",
       "      <td>-0.677723</td>\n",
       "      <td>-0.003697</td>\n",
       "      <td>-0.867017</td>\n",
       "      <td>0.803453</td>\n",
       "    </tr>\n",
       "    <tr>\n",
       "      <th>11964</th>\n",
       "      <td>-0.431983</td>\n",
       "      <td>0.346478</td>\n",
       "      <td>0.581864</td>\n",
       "      <td>0.364661</td>\n",
       "      <td>0.289220</td>\n",
       "      <td>0.080261</td>\n",
       "      <td>-0.754652</td>\n",
       "      <td>1.067992</td>\n",
       "    </tr>\n",
       "    <tr>\n",
       "      <th>5390</th>\n",
       "      <td>-0.492832</td>\n",
       "      <td>0.584852</td>\n",
       "      <td>-0.582949</td>\n",
       "      <td>-0.035828</td>\n",
       "      <td>0.291870</td>\n",
       "      <td>0.025170</td>\n",
       "      <td>-0.749970</td>\n",
       "      <td>0.593818</td>\n",
       "    </tr>\n",
       "    <tr>\n",
       "      <th>860</th>\n",
       "      <td>0.973025</td>\n",
       "      <td>-1.083767</td>\n",
       "      <td>0.390584</td>\n",
       "      <td>-0.060554</td>\n",
       "      <td>0.310414</td>\n",
       "      <td>0.010422</td>\n",
       "      <td>0.912092</td>\n",
       "      <td>-1.193070</td>\n",
       "    </tr>\n",
       "    <tr>\n",
       "      <th>15795</th>\n",
       "      <td>-0.681749</td>\n",
       "      <td>1.856182</td>\n",
       "      <td>-0.819050</td>\n",
       "      <td>-0.079973</td>\n",
       "      <td>1.053944</td>\n",
       "      <td>-0.092623</td>\n",
       "      <td>1.001048</td>\n",
       "      <td>-1.422670</td>\n",
       "    </tr>\n",
       "  </tbody>\n",
       "</table>\n",
       "<p>16512 rows × 8 columns</p>\n",
       "</div>"
      ],
      "text/plain": [
       "         MedInc  HouseAge  AveRooms  AveBedrms  Population  AveOccup  \\\n",
       "14196 -0.321654  0.346478 -0.166259  -0.190451    0.772251  0.059808   \n",
       "8267  -0.030620  1.617807 -0.386181  -0.117472   -0.098440 -0.128306   \n",
       "17445  0.150349 -1.957806  0.087641  -0.235400   -0.450778 -0.033453   \n",
       "14265 -1.014947  0.584852 -0.576442  -0.132670   -0.006602  0.088940   \n",
       "2271  -0.166583  1.141059  0.339282   0.079205   -0.486983 -0.074203   \n",
       "...         ...       ...       ...        ...         ...       ...   \n",
       "11284  1.315592  0.505394  0.282943  -0.359587   -0.677723 -0.003697   \n",
       "11964 -0.431983  0.346478  0.581864   0.364661    0.289220  0.080261   \n",
       "5390  -0.492832  0.584852 -0.582949  -0.035828    0.291870  0.025170   \n",
       "860    0.973025 -1.083767  0.390584  -0.060554    0.310414  0.010422   \n",
       "15795 -0.681749  1.856182 -0.819050  -0.079973    1.053944 -0.092623   \n",
       "\n",
       "       Latitude  Longitude  \n",
       "14196 -1.367976   1.267645  \n",
       "8267  -0.871699   0.703627  \n",
       "17445 -0.455012  -0.454356  \n",
       "14265 -1.377340   1.227714  \n",
       "2271   0.537543  -0.114948  \n",
       "...         ...        ...  \n",
       "11284 -0.867017   0.803453  \n",
       "11964 -0.754652   1.067992  \n",
       "5390  -0.749970   0.593818  \n",
       "860    0.912092  -1.193070  \n",
       "15795  1.001048  -1.422670  \n",
       "\n",
       "[16512 rows x 8 columns]"
      ]
     },
     "execution_count": 35,
     "metadata": {},
     "output_type": "execute_result"
    }
   ],
   "source": [
    "X_train"
   ]
  },
  {
   "cell_type": "code",
   "execution_count": 37,
   "id": "70ef697d-7b86-410d-a12f-58960b475c3c",
   "metadata": {},
   "outputs": [
    {
     "data": {
      "text/plain": [
       "(4128, 8)"
      ]
     },
     "execution_count": 37,
     "metadata": {},
     "output_type": "execute_result"
    }
   ],
   "source": [
    "X_test.shape"
   ]
  },
  {
   "cell_type": "code",
   "execution_count": 39,
   "id": "e7262228-a136-4520-8a15-f8fe2945bf53",
   "metadata": {},
   "outputs": [
    {
     "data": {
      "text/plain": [
       "14196    1.030\n",
       "8267     3.821\n",
       "17445    1.726\n",
       "14265    0.934\n",
       "2271     0.965\n",
       "         ...  \n",
       "11284    2.292\n",
       "11964    0.978\n",
       "5390     2.221\n",
       "860      2.835\n",
       "15795    3.250\n",
       "Name: target, Length: 16512, dtype: float64"
      ]
     },
     "execution_count": 39,
     "metadata": {},
     "output_type": "execute_result"
    }
   ],
   "source": [
    "y_train"
   ]
  },
  {
   "cell_type": "code",
   "execution_count": 41,
   "id": "7a7c0b53-532f-4435-9aac-a874848f4097",
   "metadata": {},
   "outputs": [
    {
     "data": {
      "text/plain": [
       "(4128,)"
      ]
     },
     "execution_count": 41,
     "metadata": {},
     "output_type": "execute_result"
    }
   ],
   "source": [
    "y_test.shape"
   ]
  },
  {
   "cell_type": "code",
   "execution_count": 43,
   "id": "00cd96b7-f1c0-4b38-bb11-1367b49e9176",
   "metadata": {},
   "outputs": [
    {
     "data": {
      "text/plain": [
       "array([0.71912284, 1.76401657, 2.70965883, ..., 4.46877017, 1.18751119,\n",
       "       2.00940251])"
      ]
     },
     "execution_count": 43,
     "metadata": {},
     "output_type": "execute_result"
    }
   ],
   "source": [
    "# Implement Linear Regression\n",
    "lr_model = LinearRegression()\n",
    "lr_model.fit(X_train, y_train)\n",
    "y_pred_lr = lr_model.predict(X_test)\n",
    "y_pred_lr"
   ]
  },
  {
   "cell_type": "code",
   "execution_count": 45,
   "id": "c349eb1a-1801-4380-b6cc-37bfb2b21b5d",
   "metadata": {},
   "outputs": [
    {
     "name": "stdout",
     "output_type": "stream",
     "text": [
      "Linear Regression:\n",
      "Mean Squared Error: 0.5558915986952442\n",
      "R-squared: 0.575787706032451\n"
     ]
    }
   ],
   "source": [
    "# Evaluate the model\n",
    "print(\"Linear Regression:\")\n",
    "print(\"Mean Squared Error:\", mean_squared_error(y_test, y_pred_lr))\n",
    "print(\"R-squared:\", r2_score(y_test, y_pred_lr))"
   ]
  },
  {
   "cell_type": "markdown",
   "id": "f2b7f491-80af-4afe-8300-7d91d6c3e297",
   "metadata": {},
   "source": [
    "# 2. Decision Tree Regressor\n",
    "\r\n",
    "How it works: A Decision Tree Regressor splits the dataset into subsets based on the value of features, creating a tree-like model of decisions. It makes decisions by asking questions about the features until it reaches a leaf node representing the predicted output.\r\n",
    "\r\n",
    "Suitability for the dataset: Decision trees can capture complex, non-linear relationships, making them suitable for datasets where the relationships among variables are not purely linear."
   ]
  },
  {
   "cell_type": "code",
   "execution_count": 47,
   "id": "2c58cf39-ff38-4e68-86ce-519c454c1cbe",
   "metadata": {},
   "outputs": [
    {
     "data": {
      "text/plain": [
       "array([0.414  , 1.203  , 5.00001, ..., 5.00001, 0.66   , 2.172  ])"
      ]
     },
     "execution_count": 47,
     "metadata": {},
     "output_type": "execute_result"
    }
   ],
   "source": [
    "from sklearn.tree import DecisionTreeRegressor\n",
    "\n",
    "# Implement Decision Tree Regressor\n",
    "dt_model = DecisionTreeRegressor(random_state=42)\n",
    "dt_model.fit(X_train, y_train)\n",
    "y_pred_dt = dt_model.predict(X_test)\n",
    "y_pred_dt\n"
   ]
  },
  {
   "cell_type": "code",
   "execution_count": 51,
   "id": "dcc0c019-4f64-41e9-9525-607a50a31b7d",
   "metadata": {},
   "outputs": [
    {
     "name": "stdout",
     "output_type": "stream",
     "text": [
      "Decision Tree Regressor:\n",
      "Mean Squared Error: 0.4942716777366763\n",
      "R-squared: 0.6228111330554302\n"
     ]
    }
   ],
   "source": [
    "# Evaluate the model\n",
    "print(\"Decision Tree Regressor:\")\n",
    "print(\"Mean Squared Error:\", mean_squared_error(y_test, y_pred_dt))\n",
    "print(\"R-squared:\", r2_score(y_test, y_pred_dt))"
   ]
  },
  {
   "cell_type": "markdown",
   "id": "39771d89-9e92-40de-9328-7a89146ddb3d",
   "metadata": {},
   "source": [
    "# 3. Random Forest Regressor\r\n",
    "How it works: Random Forest is an ensemble learning method that builds multiple decision trees during training and outputs the average prediction (regression) of the individual trees. It mitigates overfitting by combining predictions from several trees.\r\n",
    "\r\n",
    "Suitability for the dataset: Random Forest is robust against overfitting and often performs well on datasets with non-linear relationships and higher dimensionality, like the California Housing dataset."
   ]
  },
  {
   "cell_type": "code",
   "execution_count": 53,
   "id": "1e764c10-52e3-4fc8-b2db-3e3a38baf9d8",
   "metadata": {},
   "outputs": [
    {
     "data": {
      "text/plain": [
       "array([0.5095   , 0.74161  , 4.9232571, ..., 4.7582187, 0.71443  ,\n",
       "       1.65772  ])"
      ]
     },
     "execution_count": 53,
     "metadata": {},
     "output_type": "execute_result"
    }
   ],
   "source": [
    "from sklearn.ensemble import RandomForestRegressor\n",
    "\n",
    "# Implement Random Forest Regressor\n",
    "rf_model = RandomForestRegressor(random_state=42)\n",
    "rf_model.fit(X_train, y_train)\n",
    "y_pred_rf = rf_model.predict(X_test)\n",
    "y_pred_rf\n"
   ]
  },
  {
   "cell_type": "code",
   "execution_count": 55,
   "id": "7a1d42cb-05cb-4569-a1a2-265f3ddb6f77",
   "metadata": {},
   "outputs": [
    {
     "name": "stdout",
     "output_type": "stream",
     "text": [
      "Random Forest Regressor:\n",
      "Mean Squared Error: 0.25549776668540763\n",
      "R-squared: 0.805024407701793\n"
     ]
    }
   ],
   "source": [
    "# Evaluate the model\n",
    "print(\"Random Forest Regressor:\")\n",
    "print(\"Mean Squared Error:\", mean_squared_error(y_test, y_pred_rf))\n",
    "print(\"R-squared:\", r2_score(y_test, y_pred_rf))"
   ]
  },
  {
   "cell_type": "markdown",
   "id": "f33a15d5-50aa-453d-a661-83a28aebb58c",
   "metadata": {},
   "source": [
    "# 4. Gradient Boosting Regressor\n",
    "\n",
    "How it works: Gradient Boosting is another ensemble method that builds models in a stage-wise fashion. \n",
    "It adds weak learners (shallow trees) one at a time, and each new model corrects the errors made by the previously trained model. \n",
    "\n",
    "Suitability for the dataset: Gradient Boosting can efficiently handle various non-linear relationships and interactions between features,\n",
    "which can lead to improved model performance on complex datasets like California Housing."
   ]
  },
  {
   "cell_type": "code",
   "execution_count": 57,
   "id": "81779b27-b4e9-4d28-a008-11a1948f45ab",
   "metadata": {},
   "outputs": [
    {
     "data": {
      "text/plain": [
       "array([0.50518761, 1.09334601, 4.24570956, ..., 4.68181295, 0.85329537,\n",
       "       1.96275219])"
      ]
     },
     "execution_count": 57,
     "metadata": {},
     "output_type": "execute_result"
    }
   ],
   "source": [
    "from sklearn.ensemble import GradientBoostingRegressor\n",
    "\n",
    "# Implement Gradient Boosting Regressor\n",
    "gb_model = GradientBoostingRegressor(random_state=42)\n",
    "gb_model.fit(X_train, y_train)\n",
    "y_pred_gb = gb_model.predict(X_test)\n",
    "y_pred_gb\n"
   ]
  },
  {
   "cell_type": "code",
   "execution_count": 59,
   "id": "1c647aa7-ce3b-453e-9ccd-022f599c8d96",
   "metadata": {},
   "outputs": [
    {
     "name": "stdout",
     "output_type": "stream",
     "text": [
      "Gradient Boosting Regressor:\n",
      "Mean Squared Error: 0.29399901242474274\n",
      "R-squared: 0.7756433164710084\n"
     ]
    }
   ],
   "source": [
    "# Evaluate the model\n",
    "print(\"Gradient Boosting Regressor:\")\n",
    "print(\"Mean Squared Error:\", mean_squared_error(y_test, y_pred_gb))\n",
    "print(\"R-squared:\", r2_score(y_test, y_pred_gb))"
   ]
  },
  {
   "cell_type": "markdown",
   "id": "5fa85e2a-0bbd-4e49-ac0d-d4e7c3e61333",
   "metadata": {},
   "source": [
    "# 5. Support Vector Regressor (SVR)\n",
    "\r\n",
    "How it works: SVR uses the principles of Support Vector Machines (SVM) to perform regression. It tries to find a function that has at most a certain deviation from the actual targets for all training data. SVR aims to find a hyperplane that fits the data points with some margin.\r\n",
    "\r\n",
    "Suitability for the dataset: SVR can model non-linear relationships using kernel functions. It's effective for high-dimensional datasets, such as California Housing, where the relationships between the features and target can be complex."
   ]
  },
  {
   "cell_type": "code",
   "execution_count": 61,
   "id": "0fe77ade-81bd-4bfe-8ae4-c736b0df875b",
   "metadata": {},
   "outputs": [
    {
     "data": {
      "text/plain": [
       "array([0.52166189, 1.56843583, 3.58873947, ..., 4.80511008, 0.70878931,\n",
       "       1.73587521])"
      ]
     },
     "execution_count": 61,
     "metadata": {},
     "output_type": "execute_result"
    }
   ],
   "source": [
    "from sklearn.svm import SVR\n",
    "\n",
    "# Implement Support Vector Regressor\n",
    "svr_model = SVR(kernel='rbf')\n",
    "svr_model.fit(X_train, y_train)\n",
    "y_pred_svr = svr_model.predict(X_test)\n",
    "y_pred_svr\n"
   ]
  },
  {
   "cell_type": "code",
   "execution_count": 63,
   "id": "a18eb3b0-2749-4b1f-88a7-c43f9d182057",
   "metadata": {},
   "outputs": [
    {
     "name": "stdout",
     "output_type": "stream",
     "text": [
      "Support Vector Regressor:\n",
      "Mean Squared Error: 0.3551984619989429\n",
      "R-squared: 0.7289407597956454\n"
     ]
    }
   ],
   "source": [
    "# Evaluate the model\n",
    "print(\"Support Vector Regressor:\")\n",
    "print(\"Mean Squared Error:\", mean_squared_error(y_test, y_pred_svr))\n",
    "print(\"R-squared:\", r2_score(y_test, y_pred_svr))"
   ]
  },
  {
   "cell_type": "markdown",
   "id": "b7fbcf26-fad4-4c8d-851a-0e101a03e300",
   "metadata": {},
   "source": [
    "Each of these models has its strengths, and their effectiveness may vary based on the specific characteristics of the California Housing dataset. Linear Regression is quick and interpretable but may struggle with non-linear relationships. Decision Trees and Random Forests can capture complex patterns but may overfit, especially if the trees are deep. Gradient Boosting is powerful for improving performance through stage-wise learning, and SVR offers flexibility through its kernel functions. "
   ]
  },
  {
   "cell_type": "code",
   "execution_count": 65,
   "id": "77c77471-5347-4f7b-9f07-1c57a3a19443",
   "metadata": {},
   "outputs": [],
   "source": [
    "from sklearn.metrics import mean_squared_error, mean_absolute_error, r2_score\n",
    "\n",
    "# Store the performance metrics in a dictionary for comparison\n",
    "performance_metrics = {}\n",
    "\n",
    "# Evaluate Linear Regression\n",
    "y_pred_lr = lr_model.predict(X_test)\n",
    "performance_metrics['Linear Regression'] = {\n",
    "    'MSE': mean_squared_error(y_test, y_pred_lr),\n",
    "    'MAE': mean_absolute_error(y_test, y_pred_lr),\n",
    "    'R²': r2_score(y_test, y_pred_lr)\n",
    "}"
   ]
  },
  {
   "cell_type": "code",
   "execution_count": 67,
   "id": "45a8d003-3a8b-4ad0-9ab1-a1825ed13729",
   "metadata": {},
   "outputs": [],
   "source": [
    "# Evaluate Decision Tree Regressor\n",
    "y_pred_dt = dt_model.predict(X_test)\n",
    "performance_metrics['Decision Tree Regressor'] = {\n",
    "    'MSE': mean_squared_error(y_test, y_pred_dt),\n",
    "    'MAE': mean_absolute_error(y_test, y_pred_dt),\n",
    "    'R²': r2_score(y_test, y_pred_dt)\n",
    "}"
   ]
  },
  {
   "cell_type": "code",
   "execution_count": 69,
   "id": "551bd469-a42b-49f4-980d-0c453aa309d9",
   "metadata": {},
   "outputs": [],
   "source": [
    "# Evaluate Random Forest Regressor\n",
    "y_pred_rf = rf_model.predict(X_test)\n",
    "performance_metrics['Random Forest Regressor'] = {\n",
    "    'MSE': mean_squared_error(y_test, y_pred_rf),\n",
    "    'MAE': mean_absolute_error(y_test, y_pred_rf),\n",
    "    'R²': r2_score(y_test, y_pred_rf)\n",
    "}\n"
   ]
  },
  {
   "cell_type": "code",
   "execution_count": 71,
   "id": "8ca314c2-7129-41c8-9242-99f3f149c3fc",
   "metadata": {},
   "outputs": [],
   "source": [
    "# Evaluate Support Vector Regressor\n",
    "y_pred_svr = svr_model.predict(X_test)\n",
    "performance_metrics['Support Vector Regressor'] = {\n",
    "    'MSE': mean_squared_error(y_test, y_pred_svr),\n",
    "    'MAE': mean_absolute_error(y_test, y_pred_svr),\n",
    "    'R²': r2_score(y_test, y_pred_svr)\n",
    "}"
   ]
  },
  {
   "cell_type": "code",
   "execution_count": 77,
   "id": "15167b71-186b-4fd1-8adf-d62545d28393",
   "metadata": {},
   "outputs": [],
   "source": [
    "# Evaluate Gradient Boosting Regressor\n",
    "y_pred_gb = gb_model.predict(X_test)\n",
    "performance_metrics['Gradient Boosting Regressor'] = {\n",
    "    'MSE': mean_squared_error(y_test, y_pred_gb),\n",
    "    'MAE': mean_absolute_error(y_test, y_pred_gb),\n",
    "    'R²': r2_score(y_test, y_pred_gb)\n",
    "}\n"
   ]
  },
  {
   "cell_type": "code",
   "execution_count": 79,
   "id": "871ab680-634d-43b2-a94a-b7a33763e97a",
   "metadata": {},
   "outputs": [
    {
     "name": "stdout",
     "output_type": "stream",
     "text": [
      "                         Model       MSE       MAE        R²\n",
      "0            Linear Regression  0.555892  0.533200  0.575788\n",
      "1      Decision Tree Regressor  0.494272  0.453784  0.622811\n",
      "2      Random Forest Regressor  0.255498  0.327613  0.805024\n",
      "3     Support Vector Regressor  0.355198  0.397763  0.728941\n",
      "4  Gradient Boosting Regressor  0.293999  0.371650  0.775643\n"
     ]
    }
   ],
   "source": [
    "# Convert the performance metrics dictionary to DataFrame for better visualization\n",
    "performance_df = pd.DataFrame(performance_metrics).T\n",
    "performance_df = performance_df.rename_axis('Model').reset_index()\n",
    "\n",
    "# Display the performance summary\n",
    "print(performance_df)\n"
   ]
  },
  {
   "cell_type": "code",
   "execution_count": 81,
   "id": "5a1b2c79-534a-4241-8359-8f6c9102023c",
   "metadata": {},
   "outputs": [
    {
     "name": "stdout",
     "output_type": "stream",
     "text": [
      "\n",
      "Best Performing Model:\n",
      "Model    Random Forest Regressor\n",
      "MSE                     0.255498\n",
      "MAE                     0.327613\n",
      "R²                      0.805024\n",
      "Name: 2, dtype: object\n",
      "\n",
      "Worst Performing Model:\n",
      "Model    Linear Regression\n",
      "MSE               0.555892\n",
      "MAE                 0.5332\n",
      "R²                0.575788\n",
      "Name: 0, dtype: object\n"
     ]
    }
   ],
   "source": [
    "# Determine the best and worst performing algorithms\n",
    "best_model = performance_df.loc[performance_df['R²'].idxmax()]\n",
    "worst_model = performance_df.loc[performance_df['R²'].idxmin()]\n",
    "\n",
    "print(\"\\nBest Performing Model:\")\n",
    "print(best_model)\n",
    "\n",
    "print(\"\\nWorst Performing Model:\")\n",
    "print(worst_model)"
   ]
  },
  {
   "cell_type": "markdown",
   "id": "fd77e213-2fbc-44d3-98ab-c8878e9c0366",
   "metadata": {},
   "source": [
    "#Explanation of Metrics\r\n",
    "Mean Squared Error (MSE): Measures the average of the squares of errors—that is, the average squared difference between estimated values and the actual value. Lower values indicate better performance.\r\n",
    "\r\n",
    "Mean Absolute Error (MAE): Measures the average magnitude of errors in a set of predictions, without considering their direction. Like MSE, lower values indicate better performance.\r\n",
    "\r\n",
    "R-squared Score (R²): Represents the proportion of variance for the target variable that's explained by the features in the model. Higher values (closer to 1) indicate a better fit"
   ]
  },
  {
   "cell_type": "markdown",
   "id": "469531d2-18fe-408e-888d-0e2e1ee6b0a5",
   "metadata": {},
   "source": [
    "#Best Performing Algorithm:\r\n",
    "\r\n",
    "The algorithm that shows the highest R² score and the lowest MSE and MAE is considered the best-performing model. Justification for this model typically involves its ability to capture complex relationships in the dataset effectively.\r\n",
    "Worst Performing Algorithm:\r\n",
    "\r\n",
    "Conversely, the algorithm with the lowest R² score and the highest MSE and MAE can be designated as the worst performer. The reasoning could involve factors such as oversimplification (in the case of linear regression), sensitivity to data distribution (SVR), or overfitting tendencies in decision trees."
   ]
  },
  {
   "cell_type": "markdown",
   "id": "8545fcd7-e44d-406c-be11-77f3a43755b2",
   "metadata": {},
   "source": [
    "# CONCLUSION"
   ]
  },
  {
   "cell_type": "markdown",
   "id": "8b140ed2-7329-4f6a-aad3-537ec126c100",
   "metadata": {},
   "source": [
    "In this hypothetical output,I came to the conclusion that Random Forest Regressor has the highest R² and the lowest MSE/MAE, making it the best model.\r\n",
    "TheLinere Regressor shows a lower R² and higher MSE/MAE, which might make it the worst performer."
   ]
  },
  {
   "cell_type": "code",
   "execution_count": null,
   "id": "d0f12111-2094-4d59-b9df-b49d315c7cd4",
   "metadata": {},
   "outputs": [],
   "source": [
    "#end"
   ]
  }
 ],
 "metadata": {
  "kernelspec": {
   "display_name": "Python 3 (ipykernel)",
   "language": "python",
   "name": "python3"
  },
  "language_info": {
   "codemirror_mode": {
    "name": "ipython",
    "version": 3
   },
   "file_extension": ".py",
   "mimetype": "text/x-python",
   "name": "python",
   "nbconvert_exporter": "python",
   "pygments_lexer": "ipython3",
   "version": "3.12.4"
  }
 },
 "nbformat": 4,
 "nbformat_minor": 5
}
